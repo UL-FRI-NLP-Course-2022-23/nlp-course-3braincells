{
 "cells": [
  {
   "cell_type": "markdown",
   "metadata": {},
   "source": [
    "<center><h1>Data Acquisition</h1></center>\n",
    "<hr/>"
   ]
  },
  {
   "cell_type": "markdown",
   "metadata": {},
   "source": [
    "#### Imports"
   ]
  },
  {
   "cell_type": "code",
   "execution_count": 217,
   "metadata": {},
   "outputs": [],
   "source": [
    "import os\n",
    "import numpy as np\n",
    "import pandas as pd\n",
    "import matplotlib.pyplot as plt"
   ]
  },
  {
   "attachments": {},
   "cell_type": "markdown",
   "metadata": {},
   "source": [
    "#### Data processing"
   ]
  },
  {
   "cell_type": "code",
   "execution_count": 289,
   "metadata": {},
   "outputs": [],
   "source": [
    "path = \"data/100_short_stories/\"\n",
    "data_files = [path + file for file in sorted(os.listdir(path))]"
   ]
  },
  {
   "cell_type": "code",
   "execution_count": 290,
   "metadata": {},
   "outputs": [],
   "source": [
    "text_files, ann_files = [], []\n",
    "for file in data_files:\n",
    "    if file[-4:] == '.ann':\n",
    "        ann_files.append(file)\n",
    "    else:\n",
    "        text_files.append(file)"
   ]
  },
  {
   "cell_type": "code",
   "execution_count": 291,
   "metadata": {},
   "outputs": [],
   "source": [
    "stories = []\n",
    "\n",
    "for text_file in text_files:\n",
    "    with open(text_file, 'r') as file:\n",
    "        stories.append(\".\".join(file.readlines()))"
   ]
  },
  {
   "cell_type": "code",
   "execution_count": 292,
   "metadata": {},
   "outputs": [
    {
     "data": {
      "text/plain": [
       "'CHAPTER I In Chancery London .\\n.Michaelmas term lately over , and the Lord Chancellor sitting in Lincoln \\'s Inn Hall .\\n.Implacable November weather .\\n.As much mud in the streets as if the waters had but newly retired from the face of the earth , and it would not be wonderful to meet a Megalosaurus , forty feet long or so , waddling like an elephantine lizard up Holborn Hill .\\n.Smoke lowering down from chimney-pots , making a soft black drizzle , with flakes of soot in it as big as full-grown snowflakes -- gone into mourning , one might imagine , for the death of the sun .\\n.Dogs , undistinguishable in mire .\\n.Horses , scarcely better ; splashed to their very blinkers .\\n.Foot passengers , jostling one another \\'s umbrellas in a general infection of ill temper , and losing their foot-hold at street-corners , where tens of thousands of other foot passengers have been slipping and sliding since the day broke ( if this day ever broke ) , adding new deposits to the crust upon crust of mud , sticking at those points tenaciously to the pavement , and accumulating at compound interest .\\n.Fog everywhere .\\n.Fog up the river , where it flows among green aits and meadows ; fog down the river , where it rolls defiled among the tiers of shipping and the waterside pollutions of a great ( and dirty ) city .\\n.Fog on the Essex marshes , fog on the Kentish heights .\\n.Fog creeping into the cabooses of collier-brigs ; fog lying out on the yards and hovering in the rigging of great ships ; fog drooping on the gunwales of barges and small boats .\\n.Fog in the eyes and throats of ancient Greenwich pensioners , wheezing by the firesides of their wards ; fog in the stem and bowl of the afternoon pipe of the wrathful skipper , down in his close cabin ; fog cruelly pinching the toes and fingers of his shivering little \\' prentice boy on deck .\\n.Chance people on the bridges peeping over the parapets into a nether sky of fog , with fog all round them , as if they were up in a balloon and hanging in the misty clouds .\\n.Gas looming through the fog in divers places in the streets , much as the sun may , from the spongey fields , be seen to loom by husbandman and ploughboy .\\n.Most of the shops lighted two hours before their time -- as the gas seems to know , for it has a haggard and unwilling look .\\n.The raw afternoon is rawest , and the dense fog is densest , and the muddy streets are muddiest near that leaden-headed old obstruction , appropriate ornament for the threshold of a leaden-headed old corporation , Temple Bar .\\n.And hard by Temple Bar , in Lincoln \\'s Inn Hall , at the very heart of the fog , sits the Lord High Chancellor in his High Court of Chancery .\\n.Never can there come fog too thick , never can there come mud and mire too deep , to assort with the groping and floundering condition which this High Court of Chancery , most pestilent of hoary sinners , holds this day in the sight of heaven and earth .\\n.On such an afternoon , if ever , the Lord High Chancellor ought to be sitting here -- as here he is -- with a foggy glory round his head , softly fenced in with crimson cloth and curtains , addressed by a large advocate with great whiskers , a little voice , and an interminable brief , and outwardly directing his contemplation to the lantern in the roof , where he can see nothing but fog .\\n.On such an afternoon some score of members of the High Court of Chancery bar ought to be -- as here they are -- mistily engaged in one of the ten thousand stages of an endless cause , tripping one another up on slippery precedents , groping knee-deep in technicalities , running their goat-hair and horsehair warded heads against walls of words and making a pretence of equity with serious faces , as players might .\\n.On such an afternoon the various solicitors in the cause , some two or three of whom have inherited it from their fathers , who made a fortune by it , ought to be -- as are they not ?\\n.-- ranged in a line , in a long matted well ( but you might look in vain for truth at the bottom of it ) between the registrar \\'s red table and the silk gowns , with bills , cross-bills , answers , rejoinders , injunctions , affidavits , issues , references to masters , masters \\' reports , mountains of costly nonsense , piled before them .\\n.Well may the court be dim , with wasting candles here and there ; well may the fog hang heavy in it , as if it would never get out ; well may the stained-glass windows lose their colour and admit no light of day into the place ; well may the uninitiated from the streets , who peep in through the glass panes in the door , be deterred from entrance by its owlish aspect and by the drawl , languidly echoing to the roof from the padded dais where the Lord High Chancellor looks into the lantern that has no light in it and where the attendant wigs are all stuck in a fog-bank !\\n.This is the Court of Chancery , which has its decaying houses and its blighted lands in every shire , which has its worn-out lunatic in every madhouse and its dead in every churchyard , which has its ruined suitor with his slipshod heels and threadbare dress borrowing and begging through the round of every man \\'s acquaintance , which gives to monied might the means abundantly of wearying out the right , which so exhausts finances , patience , courage , hope , so overthrows the brain and breaks the heart , that there is not an honourable man among its practitioners who would not give -- who does not often give -- the warning , \" Suffer any wrong that can be done you rather than come here ! \"\\n.Who happen to be in the Lord Chancellor \\'s court this murky afternoon besides the Lord Chancellor , the counsel in the cause , two or three counsel who are never in any cause , and the well of solicitors before mentioned ?\\n.There is the registrar below the judge , in wig and gown ; and there are two or three maces , or petty-bags , or privy purses , or whatever they may be , in legal court suits .\\n.These are all yawning , for no crumb of amusement ever falls from Jarndyce and Jarndyce ( the cause in hand ) , which was squeezed dry years upon years ago .\\n.The short-hand writers , the reporters of the court , and the reporters of the newspapers invariably decamp with the rest of the regulars when Jarndyce and Jarndyce comes on .\\n.Their places are a blank .\\n.Standing on a seat at the side of the hall , the better to peer into the curtained sanctuary , is a little mad old woman in a squeezed bonnet who is always in court , from its sitting to its rising , and always expecting some incomprehensible judgment to be given in her favour .\\n.Some say she really is , or was , a party to a suit , but no one knows for certain because no one cares .\\n.She carries some small litter in a reticule which she calls her documents , principally consisting of paper matches and dry lavender .\\n.A sallow prisoner has come up , in custody , for the half-dozenth time to make a personal application \" to purge himself of his contempt , \" which , being a solitary surviving executor who has fallen into a state of conglomeration about accounts of which it is not pretended that he had ever any knowledge , he is not at all likely ever to do .\\n.In the meantime his prospects in life are ended .\\n.Another ruined suitor , who periodically appears from Shropshire and breaks out into efforts to address the Chancellor at the close of the day \\'s business and who can by no means be made to understand that the Chancellor is legally ignorant of his existence after making it desolate for a quarter of a century , plants himself in a good place and keeps an eye on the judge , ready to call out \" My Lord ! \"\\n.in a voice of sonorous complaint on the instant of his rising .\\n.A few lawyers \\' clerks and others who know this suitor by sight linger on the chance of his furnishing some fun and enlivening the dismal weather a little .\\n.Jarndyce and Jarndyce drones on .\\n.This scarecrow of a suit has , in course of time , become so complicated that no man alive knows what it means .\\n.The parties to it understand it least , but it has been observed that no two Chancery lawyers can talk about it for five minutes without coming to a total disagreement as to all the premises .\\n.Innumerable children have been born into the cause ; innumerable young people have married into it ; innumerable old people have died out of it .\\n.Scores of persons have deliriously found themselves made parties in Jarndyce and Jarndyce without knowing how or why ; whole families have inherited legendary hatreds with the suit .\\n.The little plaintiff or defendant who was promised a new rocking-horse when Jarndyce and Jarndyce should be settled has grown up , possessed himself of a real horse , and trotted away into the other world .\\n.Fair wards of court have faded into mothers and grandmothers ; a long procession of Chancellors has come in and gone out ; the legion of bills in the suit have been transformed into mere bills of mortality ; there are not three Jarndyces left upon the earth perhaps since old Tom Jarndyce in despair blew his brains out at a coffee-house in Chancery Lane ; but Jarndyce and Jarndyce still drags its dreary length before the court , perennially hopeless .\\n.Jarndyce and Jarndyce has passed into a joke .\\n.That is the only good that has ever come of it .\\n.It has been death to many , but it is a joke in the profession .\\n.Every master in Chancery has had a reference out of it .\\n.Every Chancellor was \" in it , \" for somebody or other , when he was counsel at the bar .\\n.Good things have been said about it by blue-nosed , bulbous-shoed old benchers in select port-wine committee after dinner in hall .\\n.Articled clerks have been in the habit of fleshing their legal wit upon it .\\n.The last Lord Chancellor handled it neatly , when , correcting Mr. Blowers , the eminent silk gown who said that such a thing might happen when the sky rained potatoes , he observed , \" or when we get through Jarndyce and Jarndyce , Mr. Blowers \" -- a pleasantry that particularly tickled the maces , bags , and purses .\\n.How many people out of the suit Jarndyce and Jarndyce has stretched forth its unwholesome hand to spoil and corrupt would be a very wide question .\\n.From the master upon whose impaling files reams of dusty warrants in Jarndyce and Jarndyce have grimly writhed into many shapes , down to the copying-clerk in the Six Clerks \\' Office who has copied his tens of thousands of Chancery folio-pages under that eternal heading , no man \\'s nature has been made better by it .\\n.In trickery , evasion , procrastination , spoliation , botheration , under false pretences of all sorts , there are influences that can never come to good .\\n.The very solicitors \\' boys who have kept the wretched suitors at bay , by protesting time out of mind that Mr. Chizzle , Mizzle , or otherwise was particularly engaged and had appointments until dinner , may have got an extra moral twist and shuffle into themselves out of Jarndyce and Jarndyce .\\n.The receiver in the cause has acquired a goodly sum of money by it but has acquired too a distrust of his own mother and a contempt for his own kind .\\n.Chizzle , Mizzle , and otherwise have lapsed into a habit of vaguely promising themselves that they will look into that outstanding little matter and see what can be done for Drizzle -- who was not well used -- when Jarndyce and Jarndyce shall be got out of the office .\\n.Shirking and sharking in all their many varieties have been sown broadcast by the ill-fated cause ; and even those who have contemplated its history from the outermost circle of such evil have been insensibly tempted into a loose way of letting bad things alone to take their own bad course , and a loose belief that if the world go wrong it was in some off-hand manner never meant to go right .\\n'"
      ]
     },
     "execution_count": 292,
     "metadata": {},
     "output_type": "execute_result"
    }
   ],
   "source": [
    "stories[0]"
   ]
  },
  {
   "cell_type": "code",
   "execution_count": 293,
   "metadata": {},
   "outputs": [],
   "source": [
    "annotations = []\n",
    "\n",
    "for ann_file in ann_files:\n",
    "    anns = []\n",
    "    with open (ann_file, 'r') as file:\n",
    "        for line in file.readlines():\n",
    "            ann = line.split(\"\\t\")\n",
    "            type, loc1, loc2 = ann[1].split()\n",
    "            anns.append([ann[0], type, int(loc1), int(loc2), ann[-1].strip()])\n",
    "    annotations.append(anns)"
   ]
  },
  {
   "cell_type": "code",
   "execution_count": 294,
   "metadata": {},
   "outputs": [
    {
     "data": {
      "text/plain": [
       "[['T2', 'FAC', 96, 115, \"Lincoln 's Inn Hall\"],\n",
       " ['T3', 'LOC', 361, 373, 'Holborn Hill'],\n",
       " ['T4', 'FAC', 163, 174, 'the streets'],\n",
       " ['T6', 'LOC', 1143, 1153, 'green aits'],\n",
       " ['T7', 'LOC', 1158, 1165, 'meadows'],\n",
       " ['T8', 'GPE', 1312, 1317, 'Essex'],\n",
       " ['T9', 'VEH', 1465, 1476, 'great ships'],\n",
       " ['T11', 'FAC', 1627, 1638, 'their wards'],\n",
       " ['T13', 'PER', 1785, 1820, \"his shivering little ' prentice boy\"],\n",
       " ['T14', 'PER', 1691, 1711, 'the wrathful skipper']]"
      ]
     },
     "execution_count": 294,
     "metadata": {},
     "output_type": "execute_result"
    }
   ],
   "source": [
    "annotations[0][:10]"
   ]
  },
  {
   "cell_type": "code",
   "execution_count": 295,
   "metadata": {},
   "outputs": [
    {
     "data": {
      "text/plain": [
       "(100, 100)"
      ]
     },
     "execution_count": 295,
     "metadata": {},
     "output_type": "execute_result"
    }
   ],
   "source": [
    "len(stories), len(annotations)"
   ]
  },
  {
   "cell_type": "code",
   "execution_count": 296,
   "metadata": {},
   "outputs": [],
   "source": [
    "df = pd.DataFrame([(story, ann) for story, ann in zip(stories, annotations)], columns = [\"Stories\", \"Annotations\"])"
   ]
  },
  {
   "cell_type": "code",
   "execution_count": 297,
   "metadata": {},
   "outputs": [
    {
     "data": {
      "text/html": [
       "<div>\n",
       "<style scoped>\n",
       "    .dataframe tbody tr th:only-of-type {\n",
       "        vertical-align: middle;\n",
       "    }\n",
       "\n",
       "    .dataframe tbody tr th {\n",
       "        vertical-align: top;\n",
       "    }\n",
       "\n",
       "    .dataframe thead th {\n",
       "        text-align: right;\n",
       "    }\n",
       "</style>\n",
       "<table border=\"1\" class=\"dataframe\">\n",
       "  <thead>\n",
       "    <tr style=\"text-align: right;\">\n",
       "      <th></th>\n",
       "      <th>Stories</th>\n",
       "      <th>Annotations</th>\n",
       "    </tr>\n",
       "  </thead>\n",
       "  <tbody>\n",
       "    <tr>\n",
       "      <th>0</th>\n",
       "      <td>CHAPTER I In Chancery London .\\n.Michaelmas te...</td>\n",
       "      <td>[[T2, FAC, 96, 115, Lincoln 's Inn Hall], [T3,...</td>\n",
       "    </tr>\n",
       "    <tr>\n",
       "      <th>1</th>\n",
       "      <td>Chapter 1 Sir Walter Elliot , of Kellynch Hall...</td>\n",
       "      <td>[[T0, FAC, 33, 46, Kellynch Hall], [T2, GPE, 8...</td>\n",
       "    </tr>\n",
       "    <tr>\n",
       "      <th>2</th>\n",
       "      <td>The \" Red Death \" had long devastated the coun...</td>\n",
       "      <td>[[T1, PER, 355, 365, the victim], [T3, PER, 75...</td>\n",
       "    </tr>\n",
       "    <tr>\n",
       "      <th>3</th>\n",
       "      <td>Phase the First : The Maiden I On an evening i...</td>\n",
       "      <td>[[T0, PER, 71, 88, a middle-aged man], [T1, GP...</td>\n",
       "    </tr>\n",
       "    <tr>\n",
       "      <th>4</th>\n",
       "      <td>I am a rather elderly man .\\n.The nature of my...</td>\n",
       "      <td>[[T0, PER, 5, 25, a rather elderly man], [T1, ...</td>\n",
       "    </tr>\n",
       "    <tr>\n",
       "      <th>...</th>\n",
       "      <td>...</td>\n",
       "      <td>...</td>\n",
       "    </tr>\n",
       "    <tr>\n",
       "      <th>95</th>\n",
       "      <td>CHAPTER 1 “ Mine ear is open , and my heart pr...</td>\n",
       "      <td>[[T1, PER, 288, 305, the adverse hosts], [T2, ...</td>\n",
       "    </tr>\n",
       "    <tr>\n",
       "      <th>96</th>\n",
       "      <td>CHAPTER 1 The Rassendylls -- With a Word on th...</td>\n",
       "      <td>[[T1, PER, 134, 152, my brother ’s wife], [T3,...</td>\n",
       "    </tr>\n",
       "    <tr>\n",
       "      <th>97</th>\n",
       "      <td>CHAPTER I You must go back with me to the autu...</td>\n",
       "      <td>[[T1, PER, 99, 115, gentleman farmer], [T3, PE...</td>\n",
       "    </tr>\n",
       "    <tr>\n",
       "      <th>98</th>\n",
       "      <td>CHAPTER I Mr Verloc , going out in the morning...</td>\n",
       "      <td>[[T1, PER, 304, 312, his wife], [T2, GPE, 513,...</td>\n",
       "    </tr>\n",
       "    <tr>\n",
       "      <th>99</th>\n",
       "      <td>BOOK ONE CHAPTER I ANTHONY PATCH In 1913 , whe...</td>\n",
       "      <td>[[T1, PER, 48, 61, Anthony Patch], [T3, PER, 9...</td>\n",
       "    </tr>\n",
       "  </tbody>\n",
       "</table>\n",
       "<p>100 rows × 2 columns</p>\n",
       "</div>"
      ],
      "text/plain": [
       "                                              Stories   \n",
       "0   CHAPTER I In Chancery London .\\n.Michaelmas te...  \\\n",
       "1   Chapter 1 Sir Walter Elliot , of Kellynch Hall...   \n",
       "2   The \" Red Death \" had long devastated the coun...   \n",
       "3   Phase the First : The Maiden I On an evening i...   \n",
       "4   I am a rather elderly man .\\n.The nature of my...   \n",
       "..                                                ...   \n",
       "95  CHAPTER 1 “ Mine ear is open , and my heart pr...   \n",
       "96  CHAPTER 1 The Rassendylls -- With a Word on th...   \n",
       "97  CHAPTER I You must go back with me to the autu...   \n",
       "98  CHAPTER I Mr Verloc , going out in the morning...   \n",
       "99  BOOK ONE CHAPTER I ANTHONY PATCH In 1913 , whe...   \n",
       "\n",
       "                                          Annotations  \n",
       "0   [[T2, FAC, 96, 115, Lincoln 's Inn Hall], [T3,...  \n",
       "1   [[T0, FAC, 33, 46, Kellynch Hall], [T2, GPE, 8...  \n",
       "2   [[T1, PER, 355, 365, the victim], [T3, PER, 75...  \n",
       "3   [[T0, PER, 71, 88, a middle-aged man], [T1, GP...  \n",
       "4   [[T0, PER, 5, 25, a rather elderly man], [T1, ...  \n",
       "..                                                ...  \n",
       "95  [[T1, PER, 288, 305, the adverse hosts], [T2, ...  \n",
       "96  [[T1, PER, 134, 152, my brother ’s wife], [T3,...  \n",
       "97  [[T1, PER, 99, 115, gentleman farmer], [T3, PE...  \n",
       "98  [[T1, PER, 304, 312, his wife], [T2, GPE, 513,...  \n",
       "99  [[T1, PER, 48, 61, Anthony Patch], [T3, PER, 9...  \n",
       "\n",
       "[100 rows x 2 columns]"
      ]
     },
     "execution_count": 297,
     "metadata": {},
     "output_type": "execute_result"
    }
   ],
   "source": [
    "df"
   ]
  },
  {
   "cell_type": "code",
   "execution_count": 298,
   "metadata": {},
   "outputs": [],
   "source": [
    "df.to_csv(\"data/processed_stories.csv\")"
   ]
  },
  {
   "cell_type": "markdown",
   "metadata": {},
   "source": [
    "#### Statistics"
   ]
  },
  {
   "cell_type": "code",
   "execution_count": 299,
   "metadata": {},
   "outputs": [],
   "source": [
    "tags = {}\n",
    "\n",
    "for annotations in df.Annotations:\n",
    "    for annotation in annotations:\n",
    "        if annotation[1] in tags:\n",
    "            tags[annotation[1]] += 1\n",
    "        else:\n",
    "            tags[annotation[1]] = 1"
   ]
  },
  {
   "cell_type": "code",
   "execution_count": 300,
   "metadata": {},
   "outputs": [
    {
     "data": {
      "image/png": "[encoded data removed]",
      "text/plain": [
       "<Figure size 640x480 with 1 Axes>"
      ]
     },
     "metadata": {},
     "output_type": "display_data"
    }
   ],
   "source": [
    "plt.figure()\n",
    "\n",
    "plt.bar(tags.keys(), tags.values())\n",
    "plt.yticks(range(0, max(tags.values()), (max(tags.values())//5)))\n",
    "plt.title(\"Annotation tag count\")\n",
    "plt.show()"
   ]
  },
  {
   "cell_type": "code",
   "execution_count": 322,
   "metadata": {},
   "outputs": [
    {
     "data": {
      "image/png": "[encoded data removed]",
      "text/plain": [
       "<Figure size 640x480 with 3 Axes>"
      ]
     },
     "metadata": {},
     "output_type": "display_data"
    }
   ],
   "source": [
    "fig, ((ax11, ax12), (ax21, ax22)) = plt.subplots(2, 2)\n",
    "\n",
    "ax11.hist([len(sentences) for sentences in df.Stories.str.split(\"\\n\")], bins=20)\n",
    "ax11.set_title(\"Sentence count in each story\")\n",
    "\n",
    "ax12.hist([len(word) for word in df.Stories.str.split()], bins=20)\n",
    "ax12.set_title(\"Word count in each story\")\n",
    "\n",
    "# Word count in each sentence averaged for each story\n",
    "ax21.hist([round(np.mean([len(sentence.split()) for sentence in sentences])) for sentences in df.Stories.str.split(\"\\n\")])\n",
    "ax21.set_title(\"Averaged word count\")\n",
    "\n",
    "ax22.remove()\n",
    "plt.tight_layout()\n",
    "plt.show()"
   ]
  },
  {
   "cell_type": "code",
   "execution_count": null,
   "metadata": {},
   "outputs": [],
   "source": []
  }
 ],
 "metadata": {
  "kernelspec": {
   "display_name": "nlp",
   "language": "python",
   "name": "python3"
  },
  "language_info": {
   "codemirror_mode": {
    "name": "ipython",
    "version": 3
   },
   "file_extension": ".py",
   "mimetype": "text/x-python",
   "name": "python",
   "nbconvert_exporter": "python",
   "pygments_lexer": "ipython3",
   "version": "3.10.7"
  },
  "orig_nbformat": 4
 },
 "nbformat": 4,
 "nbformat_minor": 2
}
