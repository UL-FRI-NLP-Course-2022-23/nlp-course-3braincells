{
 "cells": [
  {
   "cell_type": "code",
   "execution_count": 1,
   "metadata": {
    "collapsed": true
   },
   "outputs": [
    {
     "name": "stdout",
     "output_type": "stream",
     "text": [
      "{'14': [{'id': 2, 'text': 'a gentleman who married , for his second wife , the proudest and most haughty woman that was ever seen', 'type': 'NOMINAL', 'number': 'SINGULAR', 'gender': 'MALE', 'animacy': 'ANIMATE', 'startIndex': 4, 'endIndex': 24, 'headIndex': 5, 'sentNum': 1, 'position': [1, 3], 'isRepresentativeMention': True}, {'id': 4, 'text': 'his', 'type': 'PRONOMINAL', 'number': 'SINGULAR', 'gender': 'MALE', 'animacy': 'ANIMATE', 'startIndex': 10, 'endIndex': 11, 'headIndex': 10, 'sentNum': 1, 'position': [1, 5], 'isRepresentativeMention': False}, {'id': 14, 'text': 'He', 'type': 'PRONOMINAL', 'number': 'SINGULAR', 'gender': 'MALE', 'animacy': 'ANIMATE', 'startIndex': 1, 'endIndex': 2, 'headIndex': 1, 'sentNum': 3, 'position': [3, 1], 'isRepresentativeMention': False}], '30': [{'id': 5, 'text': 'the proudest and most haughty woman that was ever seen', 'type': 'NOMINAL', 'number': 'SINGULAR', 'gender': 'FEMALE', 'animacy': 'ANIMATE', 'startIndex': 14, 'endIndex': 24, 'headIndex': 19, 'sentNum': 1, 'position': [1, 6], 'isRepresentativeMention': True}, {'id': 7, 'text': 'She', 'type': 'PRONOMINAL', 'number': 'SINGULAR', 'gender': 'FEMALE', 'animacy': 'ANIMATE', 'startIndex': 1, 'endIndex': 2, 'headIndex': 1, 'sentNum': 2, 'position': [2, 2], 'isRepresentativeMention': False}, {'id': 11, 'text': 'her', 'type': 'PRONOMINAL', 'number': 'SINGULAR', 'gender': 'FEMALE', 'animacy': 'ANIMATE', 'startIndex': 12, 'endIndex': 13, 'headIndex': 12, 'sentNum': 2, 'position': [2, 6], 'isRepresentativeMention': False}, {'id': 12, 'text': 'her', 'type': 'PRONOMINAL', 'number': 'SINGULAR', 'gender': 'FEMALE', 'animacy': 'ANIMATE', 'startIndex': 23, 'endIndex': 24, 'headIndex': 23, 'sentNum': 2, 'position': [2, 7], 'isRepresentativeMention': False}, {'id': 20, 'text': 'she', 'type': 'PRONOMINAL', 'number': 'SINGULAR', 'gender': 'FEMALE', 'animacy': 'ANIMATE', 'startIndex': 23, 'endIndex': 24, 'headIndex': 23, 'sentNum': 3, 'position': [3, 7], 'isRepresentativeMention': False}, {'id': 22, 'text': 'her', 'type': 'PRONOMINAL', 'number': 'SINGULAR', 'gender': 'FEMALE', 'animacy': 'ANIMATE', 'startIndex': 26, 'endIndex': 27, 'headIndex': 26, 'sentNum': 3, 'position': [3, 9], 'isRepresentativeMention': False}, {'id': 30, 'text': 'herself', 'type': 'PRONOMINAL', 'number': 'SINGULAR', 'gender': 'FEMALE', 'animacy': 'ANIMATE', 'startIndex': 18, 'endIndex': 19, 'headIndex': 18, 'sentNum': 4, 'position': [4, 6], 'isRepresentativeMention': False}, {'id': 32, 'text': 'her', 'type': 'PRONOMINAL', 'number': 'SINGULAR', 'gender': 'FEMALE', 'animacy': 'ANIMATE', 'startIndex': 20, 'endIndex': 21, 'headIndex': 20, 'sentNum': 4, 'position': [4, 8], 'isRepresentativeMention': False}]}\n"
     ]
    }
   ],
   "source": [
    "from pycorenlp import StanfordCoreNLP\n",
    "import json\n",
    "nlp = StanfordCoreNLP('http://localhost:9000')\n",
    "# text = \"Barack Obama is the president of US. Monte Carlo  is a nice place. It is good. He lives in Monte Carlo. Trump is the current president. He owns Trump tower.\"\n",
    "text = \"Once there was a gentleman who married, for his second wife, the proudest and most haughty woman that was ever seen. She had, by a former husband, two daughters of her own humor, who were, indeed, exactly like her in all things. He had likewise, by another wife, a young daughter, but of unparalleled goodness and sweetness of temper, which she took from her mother, who was the best creature in the world. No sooner were the ceremonies of the wedding over but the mother in law began to show herself in her true colors.\"\n",
    "res = nlp.annotate(text,\n",
    "                   properties={\n",
    "                       'annotators': 'coref',\n",
    "                       'outputFormat': 'json',\n",
    "                       'timeout': 75000,\n",
    "                   })\n",
    "result = json.loads(res)\n",
    "print(result['corefs'])"
   ]
  },
  {
   "cell_type": "code",
   "execution_count": 2,
   "outputs": [],
   "source": [
    "import nltk\n",
    "def tokenize_text(text):\n",
    "    sentences = nltk.sent_tokenize(text)\n",
    "    print(len(sentences))\n",
    "    word = []\n",
    "    for i in range(len(sentences)):\n",
    "        word.append(nltk.word_tokenize(sentences[i]))\n",
    "    return word\n"
   ],
   "metadata": {
    "collapsed": false
   }
  },
  {
   "cell_type": "code",
   "execution_count": 3,
   "outputs": [
    {
     "name": "stdout",
     "output_type": "stream",
     "text": [
      "4\n"
     ]
    }
   ],
   "source": [
    "proc_text = tokenize_text(text)"
   ],
   "metadata": {
    "collapsed": false
   }
  },
  {
   "cell_type": "code",
   "execution_count": 4,
   "outputs": [
    {
     "data": {
      "text/plain": "[['Once',\n  'there',\n  'was',\n  'a',\n  'gentleman',\n  'who',\n  'married',\n  ',',\n  'for',\n  'his',\n  'second',\n  'wife',\n  ',',\n  'the',\n  'proudest',\n  'and',\n  'most',\n  'haughty',\n  'woman',\n  'that',\n  'was',\n  'ever',\n  'seen',\n  '.'],\n ['She',\n  'had',\n  ',',\n  'by',\n  'a',\n  'former',\n  'husband',\n  ',',\n  'two',\n  'daughters',\n  'of',\n  'her',\n  'own',\n  'humor',\n  ',',\n  'who',\n  'were',\n  ',',\n  'indeed',\n  ',',\n  'exactly',\n  'like',\n  'her',\n  'in',\n  'all',\n  'things',\n  '.'],\n ['He',\n  'had',\n  'likewise',\n  ',',\n  'by',\n  'another',\n  'wife',\n  ',',\n  'a',\n  'young',\n  'daughter',\n  ',',\n  'but',\n  'of',\n  'unparalleled',\n  'goodness',\n  'and',\n  'sweetness',\n  'of',\n  'temper',\n  ',',\n  'which',\n  'she',\n  'took',\n  'from',\n  'her',\n  'mother',\n  ',',\n  'who',\n  'was',\n  'the',\n  'best',\n  'creature',\n  'in',\n  'the',\n  'world',\n  '.'],\n ['No',\n  'sooner',\n  'were',\n  'the',\n  'ceremonies',\n  'of',\n  'the',\n  'wedding',\n  'over',\n  'but',\n  'the',\n  'mother',\n  'in',\n  'law',\n  'began',\n  'to',\n  'show',\n  'herself',\n  'in',\n  'her',\n  'true',\n  'colors',\n  '.']]"
     },
     "execution_count": 4,
     "metadata": {},
     "output_type": "execute_result"
    }
   ],
   "source": [
    "proc_text"
   ],
   "metadata": {
    "collapsed": false
   }
  },
  {
   "cell_type": "code",
   "execution_count": 5,
   "outputs": [
    {
     "name": "stdout",
     "output_type": "stream",
     "text": [
      "4\n",
      "J a gentleman who married , for his second wife , the proudest and most haughty woman that was ever seen\n",
      "J the proudest and most haughty woman that was ever seen\n",
      "[['Once', 'there', 'was', 'a', 'gentleman', 'who', 'married', ',', 'for', 'a gentleman who married , for his second wife , the proudest and most haughty woman that was ever seen', 'second', 'wife', ',', 'the', 'proudest', 'and', 'most', 'haughty', 'woman', 'that', 'was', 'ever', 'seen', '.'], ['the proudest and most haughty woman that was ever seen', 'had', ',', 'by', 'a', 'former', 'husband', ',', 'two', 'daughters', 'of', 'the proudest and most haughty woman that was ever seen', 'own', 'humor', ',', 'who', 'were', ',', 'indeed', ',', 'exactly', 'like', 'the proudest and most haughty woman that was ever seen', 'in', 'all', 'things', '.'], ['a gentleman who married , for his second wife , the proudest and most haughty woman that was ever seen', 'had', 'likewise', ',', 'by', 'another', 'wife', ',', 'a', 'young', 'daughter', ',', 'but', 'of', 'unparalleled', 'goodness', 'and', 'sweetness', 'of', 'temper', ',', 'which', 'the proudest and most haughty woman that was ever seen', 'took', 'from', 'the proudest and most haughty woman that was ever seen', 'mother', ',', 'who', 'was', 'the', 'best', 'creature', 'in', 'the', 'world', '.'], ['No', 'sooner', 'were', 'the', 'ceremonies', 'of', 'the', 'wedding', 'over', 'but', 'the', 'mother', 'in', 'law', 'began', 'to', 'show', 'the proudest and most haughty woman that was ever seen', 'in', 'the proudest and most haughty woman that was ever seen', 'true', 'colors', '.']]\n"
     ]
    }
   ],
   "source": [
    "#compressed function\n",
    "#def coref_rephrase(text):\n",
    "coref = result['corefs']\n",
    "processed_text = tokenize_text(text)\n",
    "#odi niz site clusters razlicni sto gi nasol\n",
    "for cluster_id in coref:\n",
    "    #listata od zborovi sto se vo toj cluster\n",
    "    words = coref[cluster_id]\n",
    "    #najdi go karakterot so koj sto ke zamenuvas\n",
    "    character = \"\"\n",
    "    for word in words:\n",
    "        #print(word)\n",
    "        if word['isRepresentativeMention']:\n",
    "            character = word['text']\n",
    "            print(\"J\",character)\n",
    "    #zameni gi site pojavi sto se odnesuvaat na character\n",
    "    for word in words:\n",
    "        #print(word)\n",
    "        if not word['isRepresentativeMention']:\n",
    "            startWord = word['startIndex']\n",
    "            endWord = word['endIndex']\n",
    "            numSentence = word['sentNum']\n",
    "            # print(\"sw: \", startWord)\n",
    "            # print(\"ew: \",endWord)\n",
    "            # print(\"ns\", numSentence)\n",
    "            # print(word['text'])\n",
    "            #zameni u tekst\n",
    "            if endWord - startWord > 1:\n",
    "                for i in range(startWord + 1, endWord):\n",
    "                    processed_text[numSentence-1][i-1] = \"\"\n",
    "            processed_text[numSentence-1][startWord-1] = character\n",
    "    #print(\"stop\")\n",
    "print(processed_text)\n",
    "    # sentences =\n",
    "    # coref_result = \" \".join(sentences)\n"
   ],
   "metadata": {
    "collapsed": false
   }
  },
  {
   "cell_type": "code",
   "execution_count": 6,
   "outputs": [],
   "source": [
    "sentences = [' '.join(word) for word in processed_text]"
   ],
   "metadata": {
    "collapsed": false
   }
  },
  {
   "cell_type": "code",
   "execution_count": 7,
   "outputs": [
    {
     "data": {
      "text/plain": "'Once there was a gentleman who married , for a gentleman who married , for his second wife , the proudest and most haughty woman that was ever seen second wife , the proudest and most haughty woman that was ever seen . the proudest and most haughty woman that was ever seen had , by a former husband , two daughters of the proudest and most haughty woman that was ever seen own humor , who were , indeed , exactly like the proudest and most haughty woman that was ever seen in all things . a gentleman who married , for his second wife , the proudest and most haughty woman that was ever seen had likewise , by another wife , a young daughter , but of unparalleled goodness and sweetness of temper , which the proudest and most haughty woman that was ever seen took from the proudest and most haughty woman that was ever seen mother , who was the best creature in the world . No sooner were the ceremonies of the wedding over but the mother in law began to show the proudest and most haughty woman that was ever seen in the proudest and most haughty woman that was ever seen true colors .'"
     },
     "execution_count": 7,
     "metadata": {},
     "output_type": "execute_result"
    }
   ],
   "source": [
    "coref_result = \" \".join(sentences)\n",
    "coref_result"
   ],
   "metadata": {
    "collapsed": false
   }
  },
  {
   "cell_type": "code",
   "execution_count": null,
   "outputs": [],
   "source": [],
   "metadata": {
    "collapsed": false
   }
  }
 ],
 "metadata": {
  "kernelspec": {
   "display_name": "Python 3",
   "language": "python",
   "name": "python3"
  },
  "language_info": {
   "codemirror_mode": {
    "name": "ipython",
    "version": 2
   },
   "file_extension": ".py",
   "mimetype": "text/x-python",
   "name": "python",
   "nbconvert_exporter": "python",
   "pygments_lexer": "ipython2",
   "version": "2.7.6"
  }
 },
 "nbformat": 4,
 "nbformat_minor": 0
}
