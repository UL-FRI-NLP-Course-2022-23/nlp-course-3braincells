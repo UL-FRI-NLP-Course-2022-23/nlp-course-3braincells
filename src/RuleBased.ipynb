{
 "cells": [
  {
   "cell_type": "markdown",
   "metadata": {},
   "source": [
    "<center><h1>Rule Based Character Extraction</h1></center>\n",
    "<hr/>"
   ]
  },
  {
   "cell_type": "markdown",
   "metadata": {},
   "source": [
    "#### Imports"
   ]
  },
  {
   "cell_type": "code",
   "execution_count": 1,
   "metadata": {},
   "outputs": [],
   "source": [
    "import pandas as pd\n",
    "import numpy as np\n",
    "import re\n",
    "import json"
   ]
  },
  {
   "cell_type": "markdown",
   "metadata": {},
   "source": [
    "#### Data"
   ]
  },
  {
   "cell_type": "code",
   "execution_count": 2,
   "metadata": {},
   "outputs": [],
   "source": [
    "story = \"\\n\".join(pd.read_table(\"data/our_data/The Sleeping Beauty In The Woods.txt\", header=None)[0])"
   ]
  },
  {
   "cell_type": "code",
   "execution_count": 3,
   "metadata": {},
   "outputs": [],
   "source": [
    "ann = json.load(open(\"data/our_data/The Sleeping Beauty In The Woods.json\"))"
   ]
  },
  {
   "cell_type": "markdown",
   "metadata": {},
   "source": [
    "#### Regex"
   ]
  },
  {
   "cell_type": "code",
   "execution_count": 4,
   "metadata": {},
   "outputs": [
    {
     "name": "stdout",
     "output_type": "stream",
     "text": [
      "[('princess', 20), ('fairy', 20), ('king', 19), ('queen', 6), ('prince', 5), ('elf', 5)]\n"
     ]
    }
   ],
   "source": [
    "animals = ['fox', 'lion', 'tiger', 'bear', 'rabbit', 'deer', 'wolf', 'elephant', 'monkey', 'snake', 'zebra', 'giraffe', 'rhinoceros', 'hippopotamus', 'crocodile', 'alligator', 'jaguar', 'leopard', 'cheetah', 'hyena', 'buffalo', 'koala', 'kangaroo', 'panda', 'camel', 'horse', 'cow', 'sheep', 'goat', 'pig', 'chicken', 'duck', 'goose', 'turkey', 'parrot', 'owl', 'eagle', 'hawk', 'falcon', 'seagull', 'penguin', 'dolphin', 'whale', 'shark', 'octopus', 'crab', 'lobster', 'snail', 'spider', 'ant', 'bee', 'butterfly', 'moth', 'grasshopper', 'dragonfly', 'ladybug']\n",
    "characters = ['prince', 'princess', 'king', 'queen', 'witch', 'wizard', 'fairy', 'dragon', 'giant', 'dwarf', 'elf', 'mermaid', 'pirate', 'knight', 'sorcerer', 'sorceress', 'troll', 'ogre', 'gnome', 'vampire', 'werewolf', 'ghost', 'goblin', 'demon', 'angel', 'nymph', 'siren', 'centaur', 'griffin', 'phoenix', 'unicorn', 'pegasus', 'cyclops', 'minotaur', 'medusa', 'satyr', 'hydra', 'chimera', 'kraken']\n",
    "relatives = ['grandmother', 'grandfather', 'mother', 'father', 'sister', 'brother', 'aunt', 'uncle', 'cousin', 'niece', 'nephew', 'stepmother', 'stepfather', 'stepsister', 'stepbrother', 'half-sister', 'half-brother', 'in-law', 'daughter-in-law', 'son-in-law', 'mother-in-law', 'father-in-law', 'sister-in-law', 'brother-in-law', 'granddaughter', 'grandson', 'godmother', 'godfather']\n",
    "\n",
    "animal_matches = {}\n",
    "relative_matches = {}\n",
    "character_matches = {}\n",
    "\n",
    "thrs = 2\n",
    "\n",
    "for animal in animals:\n",
    "    # pattern = r'\\b(?:the\\s)?' + animal + r'\\b(?:s\\b)?'\n",
    "    pattern = r'\\b(?:the\\s)?{}(?:{}s|{}es)?\\b'.format(animal, animal, animal)\n",
    "\n",
    "    matches = re.findall(pattern, story, re.IGNORECASE)\n",
    "    if len(matches) > thrs:\n",
    "        animal_matches[animal] = len(matches)\n",
    "\n",
    "for relative in relatives:\n",
    "    pattern = r'\\b(?:the\\s)?(?:\\w+-|\\w+ )?{}\\b(?:s\\b)?'.format(relative)\n",
    "    matches = re.findall(pattern, story, re.IGNORECASE)\n",
    "    if len(matches) > thrs:\n",
    "        relative_matches[relative] = len(matches)\n",
    "\n",
    "for character in characters:\n",
    "    # pattern = r'\\b(?:the\\s)?' + character + r'\\b(?:s\\b)?'\n",
    "    pattern = r'\\b(?:the\\s)?(?:{}s|{}ies)+|{}\\b'.format(character[:-1], character[:-1], character)\n",
    "    matches = re.findall(pattern, story, re.IGNORECASE)\n",
    "    if len(matches) > thrs:\n",
    "        character_matches[character] = len(matches)\n",
    "\n",
    "# Sort the matches by frequency in descending order\n",
    "animal_matches = sorted(animal_matches.items(), key=lambda x: x[1], reverse=True)\n",
    "relative_matches = sorted(relative_matches.items(), key=lambda x: x[1], reverse=True)\n",
    "character_matches = sorted(character_matches.items(), key=lambda x: x[1], reverse=True)\n",
    "\n",
    "print(animal_matches + character_matches + relative_matches)"
   ]
  },
  {
   "cell_type": "code",
   "execution_count": 5,
   "metadata": {},
   "outputs": [
    {
     "data": {
      "text/plain": [
       "array(['princess', 'fairy', 'king', 'queen', 'prince', 'elf'],\n",
       "      dtype='<U21')"
      ]
     },
     "execution_count": 5,
     "metadata": {},
     "output_type": "execute_result"
    }
   ],
   "source": [
    "np.array(character_matches)[:,0]"
   ]
  },
  {
   "cell_type": "code",
   "execution_count": 6,
   "metadata": {},
   "outputs": [
    {
     "data": {
      "text/plain": [
       "['king',\n",
       " 'queen',\n",
       " 'princess',\n",
       " 'fairies',\n",
       " 'old fairy',\n",
       " 'old woman',\n",
       " 'dwarf',\n",
       " 'mopsey',\n",
       " 'prince',\n",
       " 'countryman']"
      ]
     },
     "execution_count": 6,
     "metadata": {},
     "output_type": "execute_result"
    }
   ],
   "source": [
    "ann[\"Characters\"]"
   ]
  },
  {
   "cell_type": "code",
   "execution_count": null,
   "metadata": {},
   "outputs": [],
   "source": []
  }
 ],
 "metadata": {
  "kernelspec": {
   "display_name": "nlp",
   "language": "python",
   "name": "python3"
  },
  "language_info": {
   "codemirror_mode": {
    "name": "ipython",
    "version": 3
   },
   "file_extension": ".py",
   "mimetype": "text/x-python",
   "name": "python",
   "nbconvert_exporter": "python",
   "pygments_lexer": "ipython3",
   "version": "3.10.7"
  },
  "orig_nbformat": 4
 },
 "nbformat": 4,
 "nbformat_minor": 2
}
